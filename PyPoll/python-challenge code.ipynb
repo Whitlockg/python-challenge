{
 "cells": [
  {
   "cell_type": "code",
   "execution_count": 1,
   "metadata": {},
   "outputs": [],
   "source": [
    "import csv"
   ]
  },
  {
   "cell_type": "code",
   "execution_count": 2,
   "metadata": {},
   "outputs": [],
   "source": [
    "election_data = \"election_data.csv\"\n",
    "output_file = \"pythonchallengeoutput.txt\""
   ]
  },
  {
   "cell_type": "code",
   "execution_count": 3,
   "metadata": {},
   "outputs": [],
   "source": [
    "total_votes = 0\n",
    "candidates_num = 0\n",
    "candidate_list = []\n",
    "candidate_votes = {}\n",
    "maxvotes = -1"
   ]
  },
  {
   "cell_type": "code",
   "execution_count": 4,
   "metadata": {},
   "outputs": [],
   "source": [
    "with open(election_data) as poll_data:\n",
    "    reader = csv.DictReader(poll_data)\n",
    "    \n",
    "    for row in reader:\n",
    "        current_candidate = row['Candidate']\n",
    "        if current_candidate not in candidate_list :\n",
    "            candidates_num = candidates_num + 1\n",
    "            candidate_list.append(current_candidate)\n",
    "            candidate_votes[current_candidate] = 0\n",
    "            \n",
    "        candidate_votes[current_candidate]=candidate_votes[current_candidate]+1\n",
    "        total_votes = total_votes + 1\n",
    "        \n",
    "        if candidate_votes[current_candidate] > maxvotes :\n",
    "            maxvotes = candidate_votes[current_candidate]\n",
    "            maxcandidate = current_candidate"
   ]
  },
  {
   "cell_type": "code",
   "execution_count": 5,
   "metadata": {},
   "outputs": [],
   "source": [
    "line1 = '  Election Results'\n",
    "line2 = '  -------------------------'\n",
    "line3 = ('  Total Votes: %d' %(total_votes))\n",
    "line4 = '  -------------------------'\n",
    "output = line1 + '\\n' + line2 + '\\n' + line3 + '\\n' + line4"
   ]
  },
  {
   "cell_type": "code",
   "execution_count": 6,
   "metadata": {},
   "outputs": [],
   "source": [
    "for name in candidate_list :\n",
    "    linex = ('  %s: %.3f%% (%d)' %(name,  100*candidate_votes[name]/(0.0+total_votes), candidate_votes[name]))\n",
    "    output = output + '\\n' + linex"
   ]
  },
  {
   "cell_type": "code",
   "execution_count": 7,
   "metadata": {},
   "outputs": [],
   "source": [
    "output = output + '\\n' + '  -------------------------'\n",
    "output = output + '\\n' + ('  Winner: %s' %maxcandidate)\n",
    "output = output + '\\n' + '  -------------------------'"
   ]
  },
  {
   "cell_type": "code",
   "execution_count": 8,
   "metadata": {},
   "outputs": [
    {
     "name": "stdout",
     "output_type": "stream",
     "text": [
      "  Election Results\n",
      "  -------------------------\n",
      "  Total Votes: 3521001\n",
      "  -------------------------\n",
      "  Khan: 63.000% (2218231)\n",
      "  Correy: 20.000% (704200)\n",
      "  Li: 14.000% (492940)\n",
      "  O'Tooley: 3.000% (105630)\n",
      "  -------------------------\n",
      "  Winner: Khan\n",
      "  -------------------------\n"
     ]
    }
   ],
   "source": [
    "print(output)\n",
    "with open(output_file,'w') as outputfile:\n",
    "        outputfile.write(output)"
   ]
  },
  {
   "cell_type": "code",
   "execution_count": null,
   "metadata": {},
   "outputs": [],
   "source": []
  }
 ],
 "metadata": {
  "kernelspec": {
   "display_name": "Python 3",
   "language": "python",
   "name": "python3"
  },
  "language_info": {
   "codemirror_mode": {
    "name": "ipython",
    "version": 3
   },
   "file_extension": ".py",
   "mimetype": "text/x-python",
   "name": "python",
   "nbconvert_exporter": "python",
   "pygments_lexer": "ipython3",
   "version": "3.7.4"
  }
 },
 "nbformat": 4,
 "nbformat_minor": 4
}
